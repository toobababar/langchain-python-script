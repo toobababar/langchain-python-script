{
 "cells": [
  {
   "cell_type": "markdown",
   "id": "f7c37200",
   "metadata": {},
   "source": [
    "# A simple LLM application using LangChain"
   ]
  },
  {
   "cell_type": "code",
   "execution_count": null,
   "id": "5503f5e4-b1ce-4101-8cc8-d755205e2f55",
   "metadata": {},
   "outputs": [],
   "source": [
    "%pip install langchain"
   ]
  },
  {
   "cell_type": "code",
   "execution_count": null,
   "id": "ba4eb371-ef9e-47f2-9bd8-95cb8e2f21f2",
   "metadata": {},
   "outputs": [],
   "source": [
    "%pip install python-dotenv"
   ]
  },
  {
   "cell_type": "code",
   "execution_count": null,
   "id": "ace5208e",
   "metadata": {},
   "outputs": [],
   "source": [
    "%pip install -qU \"langchain[openai]\""
   ]
  },
  {
   "cell_type": "markdown",
   "id": "b2fce874",
   "metadata": {},
   "source": [
    "### Setting up LangSmith for evaluation and OpenAI for model invocation"
   ]
  },
  {
   "cell_type": "code",
   "execution_count": null,
   "id": "6485b7b6-48d1-4d11-8978-daf429753e41",
   "metadata": {},
   "outputs": [],
   "source": [
    "import getpass\n",
    "import os\n",
    "from dotenv import load_dotenv\n",
    "\n",
    "try:\n",
    "    load_dotenv()\n",
    "except ImportError:\n",
    "    pass\n",
    "\n",
    "os.environ[\"LANGSMITH_TRACING\"] = \"true\"\n",
    "if \"LANGSMITH_API_KEY\" not in os.environ:\n",
    "    os.environ[\"LANGSMITH_API_KEY\"] = getpass.getpass(\n",
    "        prompt=\"Enter your LangSmith API key: \"\n",
    "    )\n",
    "if \"LANGSMITH_PROJECT\" not in os.environ:\n",
    "    os.environ[\"LANGSMITH_PROJECT\"] = getpass.getpass(\n",
    "        prompt=\"Enter your LangSmith Project Name: \"\n",
    "    )\n",
    "    if not os.environ.get(\"LANGSMITH_PROJECT\"):\n",
    "        os.environ[\"LANGSMITH_PROJECT\"] = \"default\" #  if no project name is provided, fall back to \"default\"\n",
    "\n",
    "\n",
    "if not os.environ.get(\"OPENAI_API_KEY\"):\n",
    "  os.environ[\"OPENAI_API_KEY\"] = getpass.getpass(\"Enter API key for OpenAI: \")\n",
    "\n",
    "print(\"OpenAI and LangSmith keys loaded successfully.\")\n"
   ]
  },
  {
   "cell_type": "code",
   "execution_count": null,
   "id": "416a480c-d968-434b-91ad-4fd9d4c76e39",
   "metadata": {},
   "outputs": [],
   "source": [
    "from langchain.chat_models import init_chat_model\n",
    "\n",
    "model = init_chat_model(\"gpt-4o-mini\", model_provider=\"openai\")  # Using gpt-4o-mini model. for other models change the name"
   ]
  },
  {
   "cell_type": "markdown",
   "id": "8cab2b5d",
   "metadata": {},
   "source": [
    "### Calling the model to perform an action"
   ]
  },
  {
   "cell_type": "code",
   "execution_count": null,
   "id": "8ee2c8f4-fb2b-4c4c-a513-197f1a4e3424",
   "metadata": {},
   "outputs": [],
   "source": [
    "from langchain_core.messages import HumanMessage, SystemMessage\n",
    "\n",
    "messages = [\n",
    "    SystemMessage(\"You are a helpful assistant. Answer the user queries.\"),\n",
    "    HumanMessage(\"What is the sum of 6 and 8?\"),\n",
    "]\n"
   ]
  },
  {
   "cell_type": "code",
   "execution_count": null,
   "id": "55658498",
   "metadata": {},
   "outputs": [],
   "source": [
    "model.invoke(messages) # the .invoke method is used to call the model"
   ]
  }
 ],
 "metadata": {
  "kernelspec": {
   "display_name": "Python 3 (ipykernel)",
   "language": "python",
   "name": "python3"
  }
 },
 "nbformat": 4,
 "nbformat_minor": 5
}
